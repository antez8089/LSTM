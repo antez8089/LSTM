{
 "cells": [
  {
   "cell_type": "code",
   "execution_count": 1,
   "id": "abce08af",
   "metadata": {},
   "outputs": [],
   "source": [
    "import torch\n",
    "import numpy as np\n",
    "import pandas as pd\n",
    "import pickle\n",
    "from torch.nn.utils.rnn import pad_sequence\n",
    "from sklearn.model_selection import train_test_split\n"
   ]
  },
  {
   "cell_type": "code",
   "execution_count": 11,
   "id": "9ae0f4b9",
   "metadata": {},
   "outputs": [],
   "source": [
    "device = torch.device(\"cuda\")  # torch.device('cpu')"
   ]
  },
  {
   "cell_type": "code",
   "execution_count": 49,
   "id": "ee2fe85f",
   "metadata": {},
   "outputs": [],
   "source": [
    "obj = pd.read_pickle(r'train.pkl')\n",
    "max_len = max(len(arr) for arr, _ in obj)"
   ]
  },
  {
   "cell_type": "code",
   "execution_count": 57,
   "id": "bf8fe130",
   "metadata": {},
   "outputs": [
    {
     "name": "stdout",
     "output_type": "stream",
     "text": [
      "       0      1      2      3      4      5      6      7      8      9  ...  \\\n",
      "0   -1.0   -1.0   -1.0   -1.0  144.0  144.0  144.0   64.0   67.0    0.0  ...   \n",
      "1   -1.0   -1.0  144.0  144.0   34.0    0.0    4.0    2.0   65.0  144.0  ...   \n",
      "2   66.0  100.0  148.0  148.0  146.0   64.0  146.0  148.0   82.0    0.0  ...   \n",
      "3  147.0   65.0   64.0  146.0    8.0   50.0  160.0   50.0  100.0   66.0  ...   \n",
      "4  144.0  144.0  144.0  144.0  144.0   64.0   64.0   64.0    0.0  112.0  ...   \n",
      "\n",
      "   6299  6300  6301  6302  6303  6304  6305  6306  6307  label  \n",
      "0   0.0   0.0   0.0   0.0   0.0   0.0   0.0   0.0   0.0      0  \n",
      "1   0.0   0.0   0.0   0.0   0.0   0.0   0.0   0.0   0.0      0  \n",
      "2   0.0   0.0   0.0   0.0   0.0   0.0   0.0   0.0   0.0      0  \n",
      "3   0.0   0.0   0.0   0.0   0.0   0.0   0.0   0.0   0.0      0  \n",
      "4   0.0   0.0   0.0   0.0   0.0   0.0   0.0   0.0   0.0      0  \n",
      "\n",
      "[5 rows x 6309 columns]\n"
     ]
    }
   ],
   "source": [
    "padded_data = []\n",
    "labels = []\n",
    "\n",
    "for arr, label in obj:\n",
    "    padded = np.pad(arr, (0, max_len - len(arr)), constant_values=0)\n",
    "    padded_data.append(padded)\n",
    "    labels.append(label)\n",
    "\n",
    "# Create DataFrame\n",
    "df = pd.DataFrame(padded_data)\n",
    "df['label'] = labels\n",
    "\n",
    "print(df.head())"
   ]
  },
  {
   "cell_type": "code",
   "execution_count": 58,
   "id": "857b594d",
   "metadata": {},
   "outputs": [],
   "source": [
    "classes = df['label'].values\n",
    "data = df.values[:, :-1]"
   ]
  },
  {
   "cell_type": "code",
   "execution_count": 59,
   "id": "e9fedfaf",
   "metadata": {},
   "outputs": [],
   "source": [
    "np.unique(classes).shape\n",
    "data = torch.from_numpy(data).float()\n",
    "data_targets = torch.from_numpy(classes).long()\n",
    "rng = np.random.default_rng(73512)\n",
    "\n",
    "train_indices = rng.random(len(data)) > 0.3\n",
    "test_indices = ~train_indices\n",
    "train_set = torch.utils.data.TensorDataset(\n",
    "    data[train_indices], data_targets[train_indices]\n",
    ")\n",
    "train_loader = torch.utils.data.DataLoader(train_set, batch_size=32)\n",
    "test_data, test_targets = data[test_indices], data_targets[test_indices]"
   ]
  },
  {
   "cell_type": "code",
   "execution_count": 62,
   "id": "3f51f172",
   "metadata": {},
   "outputs": [
    {
     "data": {
      "text/plain": [
       "LSTMRegressor(\n",
       "  (lstm): LSTM(1, 5, num_layers=2, bidirectional=True)\n",
       "  (fc): Linear(in_features=63080, out_features=5, bias=True)\n",
       ")"
      ]
     },
     "execution_count": 62,
     "metadata": {},
     "output_type": "execute_result"
    }
   ],
   "source": [
    "import torch.nn as nn\n",
    "class LSTMRegressor(nn.Module):\n",
    "    def __init__(\n",
    "        self, input_size, hidden_size, num_layers, out_size, bidirectional=False\n",
    "    ):\n",
    "        super().__init__()\n",
    "        self.num_layers = num_layers\n",
    "        self.hidden_size = hidden_size\n",
    "        if bidirectional:\n",
    "            self.bidirectional = 2\n",
    "        else:\n",
    "            self.bidirectional = 1\n",
    "        self.lstm = nn.LSTM(\n",
    "            input_size=input_size,\n",
    "            hidden_size=hidden_size,\n",
    "            num_layers=num_layers,\n",
    "            bidirectional=bidirectional,\n",
    "        )\n",
    "        self.fc = nn.Linear(hidden_size *6308 * self.bidirectional, out_size)\n",
    "\n",
    "    def init_hidden(self, batch_size):\n",
    "        hidden = torch.zeros(\n",
    "            self.num_layers * self.bidirectional, batch_size, self.hidden_size\n",
    "        )\n",
    "        state = torch.zeros(\n",
    "            self.num_layers * self.bidirectional, batch_size, self.hidden_size\n",
    "        )\n",
    "        return hidden, state\n",
    "\n",
    "    def forward(self, x, hidden):\n",
    "        x = torch.transpose(x, 0, 1)\n",
    "        all_outputs, hidden = self.lstm(x, hidden)\n",
    "        all_outputs = torch.transpose(all_outputs, 0, 1)\n",
    "        out = torch.flatten(all_outputs, 1)\n",
    "        x = self.fc(out)\n",
    "        return x, hidden\n",
    "\n",
    "\n",
    "model = LSTMRegressor(1, 5, 2, 5, bidirectional=True).to(device)\n",
    "model"
   ]
  },
  {
   "cell_type": "code",
   "execution_count": null,
   "id": "89d70995",
   "metadata": {},
   "outputs": [
    {
     "name": "stdout",
     "output_type": "stream",
     "text": [
      "Epoch: 0, loss: 49.0\n",
      "Epoch: 10, loss: 1.71\n",
      "Epoch: 20, loss: 2.22\n",
      "Epoch: 30, loss: 1.95\n",
      "Epoch: 40, loss: 1.12\n",
      "Epoch: 50, loss: 0.793\n",
      "Epoch: 60, loss: 0.469\n",
      "Epoch: 70, loss: 0.3\n",
      "Epoch: 80, loss: 0.258\n",
      "Epoch: 90, loss: 0.148\n",
      "Epoch: 100, loss: 0.0827\n"
     ]
    }
   ],
   "source": [
    "optimizer = torch.optim.Adam(model.parameters(), lr=0.001)\n",
    "loss_fun = nn.CrossEntropyLoss()\n",
    "\n",
    "# Training loop\n",
    "for epoch in range(101):\n",
    "    for x, targets in train_loader:\n",
    "        x = x.to(device).unsqueeze(2)\n",
    "        #         x = x.unsqueeze(2)\n",
    "        targets = targets.to(device)\n",
    "        hidden, state = model.init_hidden(x.size(0))\n",
    "        hidden, state = hidden.to(device), state.to(device)\n",
    "        preds, _ = model(x, (hidden, state))\n",
    "        preds = preds.squeeze(1)\n",
    "        optimizer.zero_grad()\n",
    "        loss = loss_fun(preds, targets) \n",
    "        loss.backward()\n",
    "        optimizer.step()\n",
    "    if epoch % 10 == 0:\n",
    "        print(f\"Epoch: {epoch}, loss: {loss.item():.3}\")"
   ]
  },
  {
   "cell_type": "code",
   "execution_count": 64,
   "id": "def0b3df",
   "metadata": {},
   "outputs": [
    {
     "name": "stdout",
     "output_type": "stream",
     "text": [
      "Accuracy: 0.608\n"
     ]
    }
   ],
   "source": [
    "with torch.no_grad():\n",
    "    hidden, state = model.init_hidden(len(test_data))\n",
    "    hidden, state = hidden.to(device), state.to(device)\n",
    "    preds, _ = model(test_data.to(device).unsqueeze(2), (hidden, state))\n",
    "print(\n",
    "    f\"Accuracy: {(torch.argmax(preds, 1).cpu() == test_targets).sum().item() / len(test_targets):.3}\"\n",
    ")"
   ]
  },
  {
   "cell_type": "code",
   "execution_count": 65,
   "id": "74de1728",
   "metadata": {},
   "outputs": [],
   "source": [
    "torch.save(model.state_dict(), \"model_rekurencyjny_1.pt\")"
   ]
  },
  {
   "cell_type": "code",
   "execution_count": 68,
   "id": "ecea514b",
   "metadata": {},
   "outputs": [
    {
     "data": {
      "text/plain": [
       "<All keys matched successfully>"
      ]
     },
     "execution_count": 68,
     "metadata": {},
     "output_type": "execute_result"
    }
   ],
   "source": [
    "the_model = LSTMRegressor(1, 5, 2, 5, bidirectional=True).to(device)\n",
    "the_model.load_state_dict(torch.load(\"model_rekurencyjny_1.pt\"))"
   ]
  },
  {
   "cell_type": "code",
   "execution_count": 69,
   "id": "894de464",
   "metadata": {},
   "outputs": [
    {
     "name": "stdout",
     "output_type": "stream",
     "text": [
      "Accuracy: 0.608\n"
     ]
    }
   ],
   "source": [
    "with torch.no_grad():\n",
    "    hidden, state = model.init_hidden(len(test_data))\n",
    "    hidden, state = hidden.to(device), state.to(device)\n",
    "    preds, _ = model(test_data.to(device).unsqueeze(2), (hidden, state))\n",
    "print(\n",
    "    f\"Accuracy: {(torch.argmax(preds, 1).cpu() == test_targets).sum().item() / len(test_targets):.3}\"\n",
    ")"
   ]
  }
 ],
 "metadata": {
  "kernelspec": {
   "display_name": "Python 3",
   "language": "python",
   "name": "python3"
  },
  "language_info": {
   "codemirror_mode": {
    "name": "ipython",
    "version": 3
   },
   "file_extension": ".py",
   "mimetype": "text/x-python",
   "name": "python",
   "nbconvert_exporter": "python",
   "pygments_lexer": "ipython3",
   "version": "3.10.12"
  }
 },
 "nbformat": 4,
 "nbformat_minor": 5
}
