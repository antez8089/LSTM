{
 "cells": [
  {
   "cell_type": "code",
   "execution_count": 58,
   "id": "abce08af",
   "metadata": {},
   "outputs": [],
   "source": [
    "import torch\n",
    "from torch.utils.data import Dataset, DataLoader\n",
    "from torch.nn.utils.rnn import pack_padded_sequence\n",
    "import torch.nn as nn\n",
    "import numpy as np\n",
    "import pandas as pd\n",
    "import matplotlib.pyplot as plt\n",
    "from torch.nn.utils.rnn import pad_sequence\n",
    "from sklearn.model_selection import train_test_split\n"
   ]
  },
  {
   "cell_type": "code",
   "execution_count": 2,
   "id": "9ae0f4b9",
   "metadata": {},
   "outputs": [],
   "source": [
    "device = torch.device(\"cuda\")  # torch.device('cpu')"
   ]
  },
  {
   "cell_type": "code",
   "execution_count": 22,
   "id": "ee2fe85f",
   "metadata": {},
   "outputs": [],
   "source": [
    "train_data = pd.read_pickle(r'train.pkl')\n",
    "test_data = pd.read_pickle(r'test_no_target.pkl')"
   ]
  },
  {
   "cell_type": "code",
   "execution_count": 23,
   "id": "f367dbad",
   "metadata": {},
   "outputs": [
    {
     "data": {
      "text/plain": [
       "(2351, 588)"
      ]
     },
     "execution_count": 23,
     "metadata": {},
     "output_type": "execute_result"
    }
   ],
   "source": [
    "train_data, val_data = train_test_split(train_data, test_size=.2, random_state=1)\n",
    "len(train_data), len(val_data)"
   ]
  },
  {
   "cell_type": "code",
   "execution_count": 32,
   "id": "cb0a43a8",
   "metadata": {},
   "outputs": [],
   "source": [
    "class ClassicalMusicDataset(Dataset):\n",
    "    def __init__(self, data, has_labels=True):\n",
    "        self.has_labels = has_labels\n",
    "        if self.has_labels:\n",
    "            self.sequences, self.labels = zip(*data)\n",
    "            self.labels = torch.tensor(self.labels, dtype=torch.long)\n",
    "        else:\n",
    "            self.sequences = data\n",
    "        self.sequences = [torch.tensor(seq, dtype=torch.float32) for seq in self.sequences]\n",
    "\n",
    "    def __len__(self):\n",
    "        return len(self.sequences)\n",
    "    \n",
    "    def __getitem__(self, idx):\n",
    "        if self.has_labels:\n",
    "            return self.sequences[idx], self.labels[idx], len(self.sequences[idx])\n",
    "        else:\n",
    "            return self.sequences[idx], len(self.sequences[idx])        "
   ]
  },
  {
   "cell_type": "code",
   "execution_count": 34,
   "id": "37f3b185",
   "metadata": {},
   "outputs": [],
   "source": [
    "pad = -100\n",
    "def collate_fn(batch):\n",
    "    if len(batch[0]) == 3:\n",
    "        sequences, labels, lengths = zip(*batch)\n",
    "        padded = pad_sequence(sequences, batch_first=True, padding_value=pad)\n",
    "        return padded, torch.tensor(labels), torch.tensor(lengths)\n",
    "    else:\n",
    "        sequences, lengths = zip(*batch)\n",
    "        padded = pad_sequence(sequences, batch_first=True, padding_value=pad)\n",
    "        return padded, torch.tensor(lengths)"
   ]
  },
  {
   "cell_type": "code",
   "execution_count": 35,
   "id": "bed88b2c",
   "metadata": {},
   "outputs": [],
   "source": [
    "BATCH_SIZE = 32\n",
    "train_dataset = ClassicalMusicDataset(train_data)\n",
    "train_loader = DataLoader(train_dataset, batch_size=BATCH_SIZE, shuffle=True, collate_fn=collate_fn)\n",
    "\n",
    "val_dataset = ClassicalMusicDataset(val_data)\n",
    "val_loader = DataLoader(val_dataset, batch_size=BATCH_SIZE, shuffle=False, collate_fn=collate_fn)\n",
    "\n",
    "test_dataset = ClassicalMusicDataset(test_data, has_labels=False)\n",
    "test_loader = DataLoader(test_dataset, batch_size=BATCH_SIZE, shuffle=False, collate_fn=collate_fn)"
   ]
  },
  {
   "cell_type": "code",
   "execution_count": 56,
   "id": "eddba47f",
   "metadata": {},
   "outputs": [
    {
     "data": {
      "text/plain": [
       "LSTMRegressor(\n",
       "  (lstm): LSTM(1, 128, num_layers=2, bidirectional=True)\n",
       "  (fc): Linear(in_features=256, out_features=5, bias=True)\n",
       ")"
      ]
     },
     "execution_count": 56,
     "metadata": {},
     "output_type": "execute_result"
    }
   ],
   "source": [
    "class LSTMRegressor(nn.Module):\n",
    "    def __init__(\n",
    "        self, input_size, hidden_size, num_layers, out_size, bidirectional=False\n",
    "    ):\n",
    "        super().__init__()\n",
    "        self.num_layers = num_layers\n",
    "        self.hidden_size = hidden_size\n",
    "        if bidirectional:\n",
    "            self.bidirectional = 2\n",
    "        else:\n",
    "            self.bidirectional = 1\n",
    "        self.lstm = nn.LSTM(\n",
    "            input_size=input_size,\n",
    "            hidden_size=hidden_size,\n",
    "            num_layers=num_layers,\n",
    "            bidirectional=bidirectional,\n",
    "        )\n",
    "        self.fc = nn.Linear(hidden_size * self.bidirectional, out_size)\n",
    "\n",
    "    def init_hidden(self, batch_size):\n",
    "        hidden = torch.zeros(\n",
    "            self.num_layers * self.bidirectional, batch_size, self.hidden_size\n",
    "        )\n",
    "        state = torch.zeros(\n",
    "            self.num_layers * self.bidirectional, batch_size, self.hidden_size\n",
    "        )\n",
    "        return hidden, state\n",
    "\n",
    "    def forward(self, x, lengths, hidden):\n",
    "        x_packed = pack_padded_sequence(x, lengths, batch_first=True, enforce_sorted=False)\n",
    "        packed_output, (hn, cn) = self.lstm(x_packed, hidden)\n",
    "        if self.bidirectional:\n",
    "            last_hidden = torch.cat((hn[-2], hn[-1]), dim=1)\n",
    "        else:\n",
    "            last_hidden = hn[-1]\n",
    "        out = self.fc(last_hidden)\n",
    "        return out, (hn, cn)\n",
    "\n",
    "\n",
    "model = LSTMRegressor(1, 128, 2, 5, bidirectional=True).to(device)\n",
    "model"
   ]
  },
  {
   "cell_type": "code",
   "execution_count": 57,
   "id": "bb5eff02",
   "metadata": {},
   "outputs": [
    {
     "name": "stdout",
     "output_type": "stream",
     "text": [
      "Epoch 1/50 — Avg Loss: 1.2312\n",
      "Epoch 2/50 — Avg Loss: 1.0545\n",
      "Epoch 3/50 — Avg Loss: 0.9621\n",
      "Epoch 4/50 — Avg Loss: 0.9058\n",
      "Epoch 5/50 — Avg Loss: 0.8579\n",
      "Epoch 6/50 — Avg Loss: 0.7966\n",
      "Epoch 7/50 — Avg Loss: 0.7456\n",
      "Epoch 8/50 — Avg Loss: 0.7263\n",
      "Epoch 9/50 — Avg Loss: 0.6881\n",
      "Epoch 10/50 — Avg Loss: 0.6520\n",
      "Epoch 11/50 — Avg Loss: 0.6203\n",
      "Epoch 12/50 — Avg Loss: 0.5646\n",
      "Epoch 13/50 — Avg Loss: 0.5518\n",
      "Epoch 14/50 — Avg Loss: 0.5147\n",
      "Epoch 15/50 — Avg Loss: 0.5369\n",
      "Epoch 16/50 — Avg Loss: 0.4579\n",
      "Epoch 17/50 — Avg Loss: 0.4239\n",
      "Epoch 18/50 — Avg Loss: 0.3857\n",
      "Epoch 19/50 — Avg Loss: 0.3534\n",
      "Epoch 20/50 — Avg Loss: 0.3230\n",
      "Epoch 21/50 — Avg Loss: 0.2936\n",
      "Epoch 22/50 — Avg Loss: 0.2845\n",
      "Epoch 23/50 — Avg Loss: 0.2211\n",
      "Epoch 24/50 — Avg Loss: 0.1895\n",
      "Epoch 25/50 — Avg Loss: 0.2022\n",
      "Epoch 26/50 — Avg Loss: 0.1792\n",
      "Epoch 27/50 — Avg Loss: 0.1449\n",
      "Epoch 28/50 — Avg Loss: 0.1383\n",
      "Epoch 29/50 — Avg Loss: 0.1175\n",
      "Epoch 30/50 — Avg Loss: 0.1387\n",
      "Epoch 31/50 — Avg Loss: 0.1018\n",
      "Epoch 32/50 — Avg Loss: 0.0653\n",
      "Epoch 33/50 — Avg Loss: 0.0446\n",
      "Epoch 34/50 — Avg Loss: 0.0301\n",
      "Epoch 35/50 — Avg Loss: 0.0227\n",
      "Epoch 36/50 — Avg Loss: 0.0393\n",
      "Epoch 37/50 — Avg Loss: 0.0991\n",
      "Epoch 38/50 — Avg Loss: 0.0818\n",
      "Epoch 39/50 — Avg Loss: 0.0396\n",
      "Epoch 40/50 — Avg Loss: 0.0342\n",
      "Epoch 41/50 — Avg Loss: 0.0377\n",
      "Epoch 42/50 — Avg Loss: 0.0187\n",
      "Epoch 43/50 — Avg Loss: 0.0069\n",
      "Epoch 44/50 — Avg Loss: 0.0041\n",
      "Epoch 45/50 — Avg Loss: 0.0031\n",
      "Epoch 46/50 — Avg Loss: 0.0026\n",
      "Epoch 47/50 — Avg Loss: 0.0023\n",
      "Epoch 48/50 — Avg Loss: 0.0020\n",
      "Epoch 49/50 — Avg Loss: 0.0018\n",
      "Epoch 50/50 — Avg Loss: 0.0016\n"
     ]
    }
   ],
   "source": [
    "optimizer = torch.optim.Adam(model.parameters(), lr=0.001)\n",
    "loss_fun = nn.CrossEntropyLoss()\n",
    "\n",
    "n_epochs = 50\n",
    "\n",
    "all_loses = []\n",
    "\n",
    "for epoch in range(n_epochs):\n",
    "    epoch_loss = 0\n",
    "    batch_count = 0\n",
    "    for x, targets, lenghts in train_loader:\n",
    "        x = x.to(device).unsqueeze(2)\n",
    "        targets = targets.to(device)\n",
    "\n",
    "        hidden, state = model.init_hidden(x.size(0))\n",
    "        hidden, state = hidden.to(device), state.to(device)\n",
    "\n",
    "        preds, _ = model(x, lenghts, (hidden, state))\n",
    "\n",
    "        optimizer.zero_grad()\n",
    "        loss = loss_fun(preds, targets) \n",
    "        loss.backward()\n",
    "        optimizer.step()\n",
    "\n",
    "        epoch_loss += loss.item()\n",
    "        batch_count += 1\n",
    "\n",
    "    avg_loss = epoch_loss / batch_count\n",
    "    all_loses.append(avg_loss)\n",
    "    print(f\"Epoch: {epoch+1}\\t\\tAvg Loss: {avg_loss:.4f}\")"
   ]
  },
  {
   "cell_type": "code",
   "execution_count": 59,
   "id": "3421d136",
   "metadata": {},
   "outputs": [
    {
     "data": {
      "image/png": "[encoded data removed]",
      "text/plain": [
       "<Figure size 640x480 with 1 Axes>"
      ]
     },
     "metadata": {},
     "output_type": "display_data"
    }
   ],
   "source": [
    "plt.plot(all_loses)\n",
    "plt.xlabel('Epochs')\n",
    "plt.ylabel('Avg Epoch Loss')\n",
    "plt.show()"
   ]
  },
  {
   "cell_type": "code",
   "execution_count": 60,
   "id": "cacd8fc7",
   "metadata": {},
   "outputs": [
    {
     "name": "stdout",
     "output_type": "stream",
     "text": [
      "Validation Accuracy: 78.57%\n"
     ]
    }
   ],
   "source": [
    "model.eval()\n",
    "val_correct = 0\n",
    "val_total = 0\n",
    "all_preds = []\n",
    "all_targets = []\n",
    "\n",
    "with torch.no_grad():\n",
    "    for x, targets, lengths in val_loader:\n",
    "        x, targets = x.to(device).unsqueeze(2), targets.to(device)\n",
    "        hidden, state = model.init_hidden(x.size(0))\n",
    "        hidden, state = hidden.to(device), state.to(device)\n",
    "        preds, _ = model(x, lengths, (hidden, state))\n",
    "        predicted = torch.argmax(preds, dim=1)\n",
    "\n",
    "        val_correct += (predicted == targets).sum().item()\n",
    "        val_total += targets.size(0)\n",
    "\n",
    "        all_preds.extend(predicted.cpu().tolist())\n",
    "        all_targets.extend(targets.cpu().tolist())\n",
    "\n",
    "val_accuracy = val_correct / val_total * 100\n",
    "print(f\"Validation Accuracy: {val_accuracy:.2f}%\")"
   ]
  },
  {
   "cell_type": "code",
   "execution_count": null,
   "id": "74de1728",
   "metadata": {},
   "outputs": [],
   "source": [
    "# torch.save(model.state_dict(), \"model_rekurencyjny_1.pt\")"
   ]
  }
 ],
 "metadata": {
  "kernelspec": {
   "display_name": ".venv",
   "language": "python",
   "name": "python3"
  },
  "language_info": {
   "codemirror_mode": {
    "name": "ipython",
    "version": 3
   },
   "file_extension": ".py",
   "mimetype": "text/x-python",
   "name": "python",
   "nbconvert_exporter": "python",
   "pygments_lexer": "ipython3",
   "version": "3.12.3"
  }
 },
 "nbformat": 4,
 "nbformat_minor": 5
}
